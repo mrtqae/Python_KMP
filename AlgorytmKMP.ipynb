{
 "cells": [
  {
   "cell_type": "code",
   "execution_count": 1,
   "metadata": {},
   "outputs": [],
   "source": [
    "import csv"
   ]
  },
  {
   "cell_type": "code",
   "execution_count": 2,
   "metadata": {},
   "outputs": [],
   "source": [
    "def WyszukajWzorcaKMP(plik,*wzory):\n",
    "    \n",
    "    '''\n",
    "    Wczytanie z pliku tekstu, tworzenie tablicy LPS, wyszukanie wzorców w tekście za pomocą algorytmu KMP \n",
    "    i zapisanie wyników do pliku \"Wyniki.txt\"\n",
    "    '''\n",
    "    \n",
    "    # Wczytanie z pliku\n",
    "    \n",
    "    with open(plik,'r',encoding='UTF-8') as plik:\n",
    "        tekst=plik.read()\n",
    "    linie_tekstu=[]\n",
    "    \n",
    "    for wzor in wzory:\n",
    "        \n",
    "        # Tworzenie tablicy LPS\n",
    "        \n",
    "        wystapienia_wzoru=0\n",
    "        tab_indexy_wzorcow=[]\n",
    "            \n",
    "        dlugosc_wzoru = len(wzor)\n",
    "        dlugosc_tekstu = len(tekst)\n",
    "    \n",
    "        tablica_LPS = [0]*dlugosc_wzoru\n",
    "    \n",
    "        index_tab_wzor = 0\n",
    "        index_tab_tekst = 0\n",
    "        \n",
    "        dlugosc = 0\n",
    "    \n",
    "        tablica_LPS[0]\n",
    "        index=1\n",
    "    \n",
    "        while index < dlugosc_wzoru:\n",
    "        \n",
    "            if wzor[index]==wzor[dlugosc]:\n",
    "                dlugosc +=1\n",
    "                tablica_LPS[index] = dlugosc\n",
    "                index += 1\n",
    "            else:\n",
    "                if dlugosc != 0:\n",
    "                    dlugosc = tablica_LPS[dlugosc-1]\n",
    "                else:\n",
    "                    tablica_LPS[dlugosc]=0\n",
    "                    index += 1\n",
    "        \n",
    "        # Wyszukiwanie wzorców\n",
    "    \n",
    "        while index_tab_tekst < dlugosc_tekstu:\n",
    "            if wzor[index_tab_wzor]==tekst[index_tab_tekst]:\n",
    "                index_tab_tekst +=1\n",
    "                index_tab_wzor +=1\n",
    "            \n",
    "            if index_tab_wzor == dlugosc_wzoru:\n",
    "                tab_indexy_wzorcow.append(index_tab_tekst-index_tab_wzor)\n",
    "                wystapienia_wzoru+=1\n",
    "                index_tab_wzor = tablica_LPS[index_tab_wzor-1]\n",
    "            \n",
    "            elif index_tab_tekst < dlugosc_tekstu and wzor[index_tab_wzor] != tekst[index_tab_tekst]:\n",
    "                if index_tab_wzor != 0:\n",
    "                    index_tab_wzor = tablica_LPS[index_tab_wzor-1]\n",
    "                else:\n",
    "                    index_tab_tekst +=1\n",
    "        \n",
    "        linie_tekstu.append(f\"Wzór: {wzor}, liczba wystąpnień: {wystapienia_wzoru}, indeksy początków wzorców w tekście: {tab_indexy_wzorcow}\")\n",
    "        \n",
    "        \n",
    "    #zwrot listy \n",
    "    return linie_tekstu\n"
   ]
  },
  {
   "cell_type": "code",
   "execution_count": 3,
   "metadata": {},
   "outputs": [
    {
     "ename": "FileNotFoundError",
     "evalue": "[Errno 2] No such file or directory: 'Tekst_wzor.txt'",
     "output_type": "error",
     "traceback": [
      "\u001b[1;31m---------------------------------------------------------------------------\u001b[0m",
      "\u001b[1;31mFileNotFoundError\u001b[0m                         Traceback (most recent call last)",
      "\u001b[1;32m<ipython-input-3-da66425d4422>\u001b[0m in \u001b[0;36m<module>\u001b[1;34m\u001b[0m\n\u001b[1;32m----> 1\u001b[1;33m \u001b[0mWyszukajWzorcaKMP\u001b[0m\u001b[1;33m(\u001b[0m\u001b[1;34m'Tekst_wzor.txt'\u001b[0m\u001b[1;33m,\u001b[0m\u001b[1;34m'LA'\u001b[0m\u001b[1;33m,\u001b[0m\u001b[1;34m'OL'\u001b[0m\u001b[1;33m,\u001b[0m\u001b[1;34m'PUMA'\u001b[0m\u001b[1;33m,\u001b[0m\u001b[1;34m'ELKA'\u001b[0m\u001b[1;33m)\u001b[0m\u001b[1;33m\u001b[0m\u001b[1;33m\u001b[0m\u001b[0m\n\u001b[0m",
      "\u001b[1;32m<ipython-input-2-e9bdcd6933d5>\u001b[0m in \u001b[0;36mWyszukajWzorcaKMP\u001b[1;34m(plik, *wzory)\u001b[0m\n\u001b[0;32m      8\u001b[0m     \u001b[1;31m# Wczytanie z pliku\u001b[0m\u001b[1;33m\u001b[0m\u001b[1;33m\u001b[0m\u001b[1;33m\u001b[0m\u001b[0m\n\u001b[0;32m      9\u001b[0m \u001b[1;33m\u001b[0m\u001b[0m\n\u001b[1;32m---> 10\u001b[1;33m     \u001b[0mplik\u001b[0m \u001b[1;33m=\u001b[0m \u001b[0mopen\u001b[0m\u001b[1;33m(\u001b[0m\u001b[0mplik\u001b[0m\u001b[1;33m,\u001b[0m\u001b[0mencoding\u001b[0m \u001b[1;33m=\u001b[0m \u001b[1;34m'UTF-8'\u001b[0m\u001b[1;33m)\u001b[0m\u001b[1;33m\u001b[0m\u001b[1;33m\u001b[0m\u001b[0m\n\u001b[0m\u001b[0;32m     11\u001b[0m     \u001b[0mtekst\u001b[0m\u001b[1;33m=\u001b[0m\u001b[0mplik\u001b[0m\u001b[1;33m.\u001b[0m\u001b[0mread\u001b[0m\u001b[1;33m(\u001b[0m\u001b[1;33m)\u001b[0m\u001b[1;33m\u001b[0m\u001b[1;33m\u001b[0m\u001b[0m\n\u001b[0;32m     12\u001b[0m     \u001b[0mplik\u001b[0m\u001b[1;33m.\u001b[0m\u001b[0mclose\u001b[0m\u001b[1;33m(\u001b[0m\u001b[1;33m)\u001b[0m\u001b[1;33m\u001b[0m\u001b[1;33m\u001b[0m\u001b[0m\n",
      "\u001b[1;31mFileNotFoundError\u001b[0m: [Errno 2] No such file or directory: 'Tekst_wzor.txt'"
     ]
    }
   ],
   "source": [
    "WyszukajWzorcaKMP('Tekst_wzor.txt','LA','OL','PUMA','ELKA')"
   ]
  },
  {
   "cell_type": "code",
   "execution_count": null,
   "metadata": {},
   "outputs": [],
   "source": []
  }
 ],
 "metadata": {
  "kernelspec": {
   "display_name": "Python 3",
   "language": "python",
   "name": "python3"
  },
  "language_info": {
   "codemirror_mode": {
    "name": "ipython",
    "version": 3
   },
   "file_extension": ".py",
   "mimetype": "text/x-python",
   "name": "python",
   "nbconvert_exporter": "python",
   "pygments_lexer": "ipython3",
   "version": "3.8.3"
  }
 },
 "nbformat": 4,
 "nbformat_minor": 2
}
